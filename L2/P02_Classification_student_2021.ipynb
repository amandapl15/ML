{
 "cells": [
  {
   "cell_type": "markdown",
   "metadata": {
    "colab_type": "text",
    "id": "EzfnlG_gKLhF",
    "pycharm": {
     "name": "#%% md\n"
    }
   },
   "source": [
    "# <center> Project 02: Application of classification in Marketing and Sales </center>"
   ]
  },
  {
   "cell_type": "markdown",
   "metadata": {
    "colab_type": "text",
    "id": "jdPg2j8dKLhG",
    "pycharm": {
     "name": "#%% md\n"
    }
   },
   "source": [
    "# Seminar goals:\n",
    "In this project, we will develop and apply different supervised classification tecnhiques. These methodologies are broadly used in business to multiple use cases as:\n",
    "- identify **new customers** in the market\n",
    "- identify customers in our internal Data Warehouse with **more likely** to buy a new product\n",
    "- identify unsatisfied customers and thus, likely to be **churners**\n",
    "- classify text into categories for spam identification or to process messages or emails from our customers\n",
    "\n",
    "During this project we will follow the end-to-end Machine Learning process: from data gathering and cleaning, exploratory data analysis, feature engineering and finally, training and prediction. In particular, the main sections of this project are:\n",
    "1. Data understanding and preparation: exploration of the dataset and feature engineering (missing values, outlier identification, categorical variables management) \n",
    "2. Model Training: training the baseline SVM and Decision Trees. Analysis of metrics (recall, precision, confusion metrics) and improvement the classification through several techniques as undersampling to balance or ensemble of models\n",
    "3. Creating a Business opportunity with Machine Learning: selection of the best model and identification of the most important features\n",
    "\n",
    "\n",
    "\n",
    "We will apply all these techniques to identify new customers to capture and improve sales in a **marketing use case**."
   ]
  },
  {
   "cell_type": "markdown",
   "metadata": {
    "colab_type": "text",
    "id": "UYAFrceqKLhH",
    "pycharm": {
     "name": "#%% md\n"
    }
   },
   "source": [
    "### Due date: up to June 17th, 23:55h. \n",
    "### Submission procedure: via Moodle."
   ]
  },
  {
   "cell_type": "markdown",
   "metadata": {
    "colab_type": "text",
    "id": "-A4_3DZEKLhI",
    "pycharm": {
     "name": "#%% md\n"
    }
   },
   "source": [
    "*******"
   ]
  },
  {
   "cell_type": "markdown",
   "metadata": {
    "colab_type": "text",
    "id": "FZY4NReQKLhI",
    "pycharm": {
     "name": "#%% md\n"
    }
   },
   "source": [
    "# 0. Context:  Using Machine Learning to increase our customers base"
   ]
  },
  {
   "cell_type": "markdown",
   "metadata": {
    "colab_type": "text",
    "id": "diyA2X3aKLhJ",
    "pycharm": {
     "name": "#%% md\n"
    }
   },
   "source": [
    "We work as a head of data science and AI in a new Internet of Things (IoT) company. Our company designs, builds and implements wireless IoT products.\n",
    "\n",
    "Our marketing colleagues are planning to launch a new commercial campaign for capturing new customers. We have to decide which companies are the target to be visited by our sales managers. As the cost to send a sales manager to visit a potential customer is quite high, we have to select from the total market base, those companies that are more likely to buy any of our products and become a new customer. \n",
    "\n",
    "To support this new campaign, we are **using several of the most important classification techniques**. We will manage key evaluation aspects of a classification as **recall, precision, false positive, etc...** to decide which are the best potential customers. \n"
   ]
  },
  {
   "cell_type": "markdown",
   "metadata": {
    "colab_type": "text",
    "id": "1hxQ0QtwKLhK",
    "pycharm": {
     "name": "#%% md\n"
    }
   },
   "source": [
    "## 0.1 Dataset"
   ]
  },
  {
   "cell_type": "markdown",
   "metadata": {
    "colab_type": "text",
    "id": "uRr4nn5-KLhK",
    "pycharm": {
     "name": "#%% md\n"
    }
   },
   "source": [
    "In this practice we are using a new dataset named `market_dt.csv`. This file contains information of **IoT market**, i.e. companies that could be interested to buy IoT products or they have already. In particular, the detailed information for each customer is:\n",
    "- *City*: Name of the city where the company is located\n",
    "- *Customer_Flag*: It is a flag that is 1 for current customers and 0 for non-customers\n",
    "- *Revenue*: The annual incomes of the company\n",
    "- *Sector*: It's an integer that identifies the sector of the company's activity\n",
    "- *CNT_EMPLOYEE*: Number of employees of the company\n",
    "- *CNT_CB_DENSITY*: Number of companies close\n",
    "- *CNT_CB_MOB_DENSITY*: Number of companies with mobile services\n",
    "- *CNT_CB_FN_DENSITY*: Number of companies with fixed services\n",
    "- *Legal_Form_Code*: It's an integer that identifies the legal type of the company: big, small or medium company\n",
    "- *Mobile potential*: It's an estimation of the total annual expense that a company can do in telco services, including IoT"
   ]
  },
  {
   "cell_type": "markdown",
   "metadata": {
    "colab_type": "text",
    "id": "6U4Sxn_kKLhL",
    "pycharm": {
     "name": "#%% md\n"
    }
   },
   "source": [
    "## 0.2. Imports"
   ]
  },
  {
   "cell_type": "code",
   "execution_count": 165,
   "metadata": {
    "colab": {},
    "colab_type": "code",
    "id": "t4bx2UI5KLhM",
    "pycharm": {
     "name": "#%%\n"
    }
   },
   "outputs": [],
   "source": [
    "import pandas as pd\n",
    "import numpy as np\n",
    "import matplotlib.pyplot as plt\n",
    "from matplotlib import pyplot\n",
    "import matplotlib.cm as cm\n",
    "import seaborn as sns\n",
    "from scipy.stats import iqr\n",
    "from scipy.stats import chi2_contingency\n",
    "from sklearn.preprocessing import StandardScaler\n",
    "from sklearn.preprocessing import Normalizer\n",
    "from sklearn.preprocessing import MinMaxScaler\n",
    "from sklearn.preprocessing import LabelEncoder\n",
    "from sklearn.model_selection import train_test_split\n",
    "from sklearn.linear_model import SGDClassifier\n",
    "from sklearn.svm import SVC\n",
    "from sklearn.model_selection import train_test_split\n",
    "from sklearn.metrics import accuracy_score, auc, roc_curve, classification_report, confusion_matrix, precision_score, recall_score, precision_recall_curve\n",
    "from sklearn.tree import DecisionTreeClassifier\n",
    "from sklearn.ensemble import RandomForestClassifier, GradientBoostingClassifier, VotingClassifier, AdaBoostClassifier \n",
    "from sklearn.model_selection import KFold\n",
    "from sklearn.model_selection import cross_val_score\n",
    "from sklearn.model_selection import StratifiedKFold"
   ]
  },
  {
   "cell_type": "markdown",
   "metadata": {
    "colab_type": "text",
    "id": "o7OfXFAoKLhP",
    "pycharm": {
     "name": "#%% md\n"
    }
   },
   "source": [
    "# 1. Data understanding and preparation"
   ]
  },
  {
   "cell_type": "markdown",
   "metadata": {
    "colab_type": "text",
    "id": "T0GEXTMZKLhQ",
    "pycharm": {
     "name": "#%% md\n"
    }
   },
   "source": [
    "The first stage in any Machine Learning project is to have a clear understanding of the dataset from a statistical point of view but also from the perspective of the value of their variables to solve the use case or problem. To achieve this goal we need to \"clean\" and \"transform\" the data. All this process is known as **Data Wrangling**. In particular, the whole data wrangling process implies:\n",
    "- Define and apply an strategy for nulls and coding for categorical variables\n",
    "- Analyze the variables distribution and correlation between them\n",
    "- Remove outliers\n",
    "- etc....\n"
   ]
  },
  {
   "cell_type": "markdown",
   "metadata": {
    "colab_type": "text",
    "id": "tzaVBJ98KLhQ",
    "pycharm": {
     "name": "#%% md\n"
    }
   },
   "source": [
    "Let's open the csv with separator \";\" and assign to a dataframe variable (use read_csv from Pandas library). Let's see the top 5 elements."
   ]
  },
  {
   "cell_type": "code",
   "execution_count": 166,
   "metadata": {
    "colab": {},
    "colab_type": "code",
    "id": "t7w8v94aKLhR",
    "outputId": "1d91411a-486a-4340-f9c5-fda71d29d9bd",
    "pycharm": {
     "name": "#%%\n"
    }
   },
   "outputs": [
    {
     "name": "stdout",
     "output_type": "stream",
     "text": [
      "<class 'pandas.core.frame.DataFrame'>\n",
      "RangeIndex: 13335 entries, 0 to 13334\n",
      "Data columns (total 10 columns):\n",
      " #   Column              Non-Null Count  Dtype  \n",
      "---  ------              --------------  -----  \n",
      " 0   City                13335 non-null  object \n",
      " 1   Customer_Flag       13335 non-null  int64  \n",
      " 2   Revenue             8589 non-null   float64\n",
      " 3   Sector              13235 non-null  float64\n",
      " 4   Legal_Form_Code     13229 non-null  float64\n",
      " 5   CNT_EMPLOYEE        13335 non-null  int64  \n",
      " 6   CNT_CB_DENSITY      10265 non-null  float64\n",
      " 7   CNT_CB_MOB_DENSITY  10265 non-null  float64\n",
      " 8   CNT_CB_FN_DENSITY   10265 non-null  float64\n",
      " 9   Mobile_potential    13335 non-null  float64\n",
      "dtypes: float64(7), int64(2), object(1)\n",
      "memory usage: 1.0+ MB\n"
     ]
    },
    {
     "data": {
      "text/html": [
       "<div>\n",
       "<style scoped>\n",
       "    .dataframe tbody tr th:only-of-type {\n",
       "        vertical-align: middle;\n",
       "    }\n",
       "\n",
       "    .dataframe tbody tr th {\n",
       "        vertical-align: top;\n",
       "    }\n",
       "\n",
       "    .dataframe thead th {\n",
       "        text-align: right;\n",
       "    }\n",
       "</style>\n",
       "<table border=\"1\" class=\"dataframe\">\n",
       "  <thead>\n",
       "    <tr style=\"text-align: right;\">\n",
       "      <th></th>\n",
       "      <th>City</th>\n",
       "      <th>Customer_Flag</th>\n",
       "      <th>Revenue</th>\n",
       "      <th>Sector</th>\n",
       "      <th>Legal_Form_Code</th>\n",
       "      <th>CNT_EMPLOYEE</th>\n",
       "      <th>CNT_CB_DENSITY</th>\n",
       "      <th>CNT_CB_MOB_DENSITY</th>\n",
       "      <th>CNT_CB_FN_DENSITY</th>\n",
       "      <th>Mobile_potential</th>\n",
       "    </tr>\n",
       "  </thead>\n",
       "  <tbody>\n",
       "    <tr>\n",
       "      <th>0</th>\n",
       "      <td>Bremen</td>\n",
       "      <td>0</td>\n",
       "      <td>21339309.0</td>\n",
       "      <td>26.0</td>\n",
       "      <td>14.0</td>\n",
       "      <td>25</td>\n",
       "      <td>161.0</td>\n",
       "      <td>154.0</td>\n",
       "      <td>10.0</td>\n",
       "      <td>1783.999887</td>\n",
       "    </tr>\n",
       "    <tr>\n",
       "      <th>1</th>\n",
       "      <td>Steinfurt</td>\n",
       "      <td>0</td>\n",
       "      <td>NaN</td>\n",
       "      <td>74.0</td>\n",
       "      <td>4.0</td>\n",
       "      <td>50</td>\n",
       "      <td>41.0</td>\n",
       "      <td>41.0</td>\n",
       "      <td>1.0</td>\n",
       "      <td>1884.468150</td>\n",
       "    </tr>\n",
       "    <tr>\n",
       "      <th>2</th>\n",
       "      <td>Magdeburg</td>\n",
       "      <td>0</td>\n",
       "      <td>NaN</td>\n",
       "      <td>83.0</td>\n",
       "      <td>28.0</td>\n",
       "      <td>28</td>\n",
       "      <td>188.0</td>\n",
       "      <td>187.0</td>\n",
       "      <td>6.0</td>\n",
       "      <td>1938.651093</td>\n",
       "    </tr>\n",
       "    <tr>\n",
       "      <th>3</th>\n",
       "      <td>Leipzig</td>\n",
       "      <td>0</td>\n",
       "      <td>NaN</td>\n",
       "      <td>61.0</td>\n",
       "      <td>28.0</td>\n",
       "      <td>12</td>\n",
       "      <td>597.0</td>\n",
       "      <td>594.0</td>\n",
       "      <td>21.0</td>\n",
       "      <td>1602.187431</td>\n",
       "    </tr>\n",
       "    <tr>\n",
       "      <th>4</th>\n",
       "      <td>Tamm</td>\n",
       "      <td>0</td>\n",
       "      <td>NaN</td>\n",
       "      <td>74.0</td>\n",
       "      <td>4.0</td>\n",
       "      <td>37</td>\n",
       "      <td>336.0</td>\n",
       "      <td>334.0</td>\n",
       "      <td>10.0</td>\n",
       "      <td>1931.884908</td>\n",
       "    </tr>\n",
       "  </tbody>\n",
       "</table>\n",
       "</div>"
      ],
      "text/plain": [
       "        City  Customer_Flag     Revenue  Sector  Legal_Form_Code  \\\n",
       "0     Bremen              0  21339309.0    26.0             14.0   \n",
       "1  Steinfurt              0         NaN    74.0              4.0   \n",
       "2  Magdeburg              0         NaN    83.0             28.0   \n",
       "3    Leipzig              0         NaN    61.0             28.0   \n",
       "4       Tamm              0         NaN    74.0              4.0   \n",
       "\n",
       "   CNT_EMPLOYEE  CNT_CB_DENSITY  CNT_CB_MOB_DENSITY  CNT_CB_FN_DENSITY  \\\n",
       "0            25           161.0               154.0               10.0   \n",
       "1            50            41.0                41.0                1.0   \n",
       "2            28           188.0               187.0                6.0   \n",
       "3            12           597.0               594.0               21.0   \n",
       "4            37           336.0               334.0               10.0   \n",
       "\n",
       "   Mobile_potential  \n",
       "0       1783.999887  \n",
       "1       1884.468150  \n",
       "2       1938.651093  \n",
       "3       1602.187431  \n",
       "4       1931.884908  "
      ]
     },
     "execution_count": 166,
     "metadata": {},
     "output_type": "execute_result"
    }
   ],
   "source": [
    "market_dt = pd.read_csv('market_dt.csv', usecols={'City', 'Customer_Flag', 'Revenue', 'Sector', 'CNT_EMPLOYEE',\n",
    "                                                 'CNT_CB_DENSITY', 'CNT_CB_MOB_DENSITY', 'CNT_CB_FN_DENSITY',\n",
    "                                                 'Legal_Form_Code','Mobile_potential'}, sep=\";\")\n",
    "market_dt.info()\n",
    "market_dt.head()"
   ]
  },
  {
   "cell_type": "markdown",
   "metadata": {
    "colab_type": "text",
    "id": "osFK9XOAKLhV",
    "pycharm": {
     "name": "#%% md\n"
    }
   },
   "source": [
    "[**EX1**] [**REPORT**] Let's identify the type of the variables (integer, float, chart...) and the size of the dataset and the file. Which are the variable with more nulls? And with no nulls? Why 'City' variables is considered as object type?\n",
    "\n",
    "Tip: [.info()](https://www.geeksforgeeks.org/python-pandas-dataframe-info/) is a function that reports the main characteristics of a dataframe."
   ]
  },
  {
   "cell_type": "markdown",
   "metadata": {
    "colab_type": "text",
    "id": "rnjxSOlfKLhZ",
    "pycharm": {
     "name": "#%% md\n"
    }
   },
   "source": [
    "Once we have the first contact with the dataset, next step is to decide the strategy to apply to **nulls** values. There are several options as removing the rows with any **null**, assigning a constant value (e.g. median or mean value), etc.... In our case, we are removing the rows with **null** in any of the values."
   ]
  },
  {
   "cell_type": "markdown",
   "metadata": {
    "colab_type": "text",
    "id": "j6WN5zKGKLhZ",
    "pycharm": {
     "name": "#%% md\n"
    }
   },
   "source": [
    "[**EX2**] [**CODE**] Eliminate those rows which has nulls in any variable. Let's check that there is no nulls in any variable. Which is the size of the resulting dataset? "
   ]
  },
  {
   "cell_type": "markdown",
   "metadata": {
    "colab_type": "text",
    "id": "jMAZKlkpKLhf",
    "pycharm": {
     "name": "#%% md\n"
    }
   },
   "source": [
    "Your output should look like this:"
   ]
  },
  {
   "cell_type": "code",
   "execution_count": 167,
   "metadata": {
    "colab": {},
    "colab_type": "code",
    "id": "H2dXqQbfKLhf",
    "outputId": "e0b6d8cf-e02e-46ed-bdb6-811b71a0a6b3",
    "pycharm": {
     "name": "#%%\n"
    }
   },
   "outputs": [
    {
     "name": "stdout",
     "output_type": "stream",
     "text": [
      "Removing nulls\n",
      "\n",
      "The resulted lenght is: 6987\n",
      "<class 'pandas.core.frame.DataFrame'>\n",
      "Int64Index: 6987 entries, 0 to 13321\n",
      "Data columns (total 10 columns):\n",
      " #   Column              Non-Null Count  Dtype  \n",
      "---  ------              --------------  -----  \n",
      " 0   City                6987 non-null   object \n",
      " 1   Customer_Flag       6987 non-null   int64  \n",
      " 2   Revenue             6987 non-null   float64\n",
      " 3   Sector              6987 non-null   float64\n",
      " 4   Legal_Form_Code     6987 non-null   float64\n",
      " 5   CNT_EMPLOYEE        6987 non-null   int64  \n",
      " 6   CNT_CB_DENSITY      6987 non-null   float64\n",
      " 7   CNT_CB_MOB_DENSITY  6987 non-null   float64\n",
      " 8   CNT_CB_FN_DENSITY   6987 non-null   float64\n",
      " 9   Mobile_potential    6987 non-null   float64\n",
      "dtypes: float64(7), int64(2), object(1)\n",
      "memory usage: 600.4+ KB\n"
     ]
    }
   ],
   "source": [
    "print(\"Removing nulls\\n\")\n",
    "market_dt=market_dt[(market_dt['Revenue'].isna()==False) \n",
    "                        & (market_dt['Sector'].isna()==False) & (market_dt['Legal_Form_Code'].isna()==False)\n",
    "                    & (market_dt['CNT_CB_DENSITY'].isna()==False)& (market_dt['CNT_CB_MOB_DENSITY'].isna()==False)\n",
    "                    & (market_dt['CNT_CB_FN_DENSITY'].isna()==False)]\n",
    "print(\"The resulted lenght is:\", len(market_dt))\n",
    "market_dt.info()"
   ]
  },
  {
   "cell_type": "markdown",
   "metadata": {
    "colab_type": "text",
    "id": "uR4UCXz6KLhj",
    "pycharm": {
     "name": "#%% md\n"
    }
   },
   "source": [
    "In Machine Learning, it is key to analyze the variables from a statistical point of view: knowing the distribution of each variable, their mean and median are key to identify any transformation to apply before training the model. \n",
    "Furthermore, due to we are training a classifier (in our case, to classify between ***customers*** and ***non customers***), this analysis should be done for both classes separetly."
   ]
  },
  {
   "cell_type": "markdown",
   "metadata": {
    "colab_type": "text",
    "id": "L2r-IQ7OKLhj",
    "pycharm": {
     "name": "#%% md\n"
    }
   },
   "source": [
    "[**EX3**] [**REPORT**] Create a `customer_dt`and `noncustomer_dt`datasets based on the `Customer_Flag`variable (`Customer_Flag`=1 for **customers** and 0 for **noncustomers**). Build a boxplot for the `Revenue`, `CNT_EMPLOYEE`, `Mobile_potential` and `CNT_CB_Density` numeric variables for both datasets. Which are the main differences between `customer_dt`and `noncustomer_dt` datasets comparing these variables. Which is the dataset with `CNT_EMPLOYEE` higher? Which datasets have more outliers in `Revenues`? Which is the Q1, median (=Q2) and Q3 for `Revenues`and `Mobile_potential`?\n",
    "\n",
    "\n",
    "Tip: you may have to use the [boxplot](https://matplotlib.org/3.1.1/api/_as_gen/matplotlib.pyplot.boxplot.html) function."
   ]
  },
  {
   "cell_type": "code",
   "execution_count": 168,
   "metadata": {
    "pycharm": {
     "name": "#%%\n"
    }
   },
   "outputs": [
    {
     "data": {
      "image/png": "[encoded data removed]",
      "text/plain": [
       "<Figure size 432x288 with 1 Axes>"
      ]
     },
     "metadata": {
      "needs_background": "light"
     },
     "output_type": "display_data"
    },
    {
     "data": {
      "image/png": "[encoded data removed]",
      "text/plain": [
       "<Figure size 432x288 with 1 Axes>"
      ]
     },
     "metadata": {
      "needs_background": "light"
     },
     "output_type": "display_data"
    },
    {
     "data": {
      "image/png": "[encoded data removed]",
      "text/plain": [
       "<Figure size 432x288 with 1 Axes>"
      ]
     },
     "metadata": {
      "needs_background": "light"
     },
     "output_type": "display_data"
    },
    {
     "data": {
      "image/png": "[encoded data removed]",
      "text/plain": [
       "<Figure size 432x288 with 1 Axes>"
      ]
     },
     "metadata": {
      "needs_background": "light"
     },
     "output_type": "display_data"
    },
    {
     "name": "stdout",
     "output_type": "stream",
     "text": [
      "CNT_EMPLOYEE higher customer:  50\n",
      "CNT_EMPLOYEE higher no customer:  50\n",
      "Outliers customer:  95\n",
      "Outliers No customer:  437\n",
      "\n",
      "Quartiles Revenue:\n",
      "Q1:  1047500.0\n",
      "Q2:  2200000.0\n",
      "Q3:  4195000.0\n",
      "\n",
      "Quartiles Mobile Potencial:\n",
      "Q1:  1621.0556861314792\n",
      "Q2:  1948.4376609395997\n",
      "Q3:  2116.47407406108\n"
     ]
    }
   ],
   "source": [
    "#Nuevos dataset de clintes actuales = 1 y no clientes = 0\n",
    "customer_dt = market_dt[market_dt['Customer_Flag']==1];\n",
    "noncustomer_dt = market_dt[market_dt['Customer_Flag']==0];\n",
    "\n",
    "#Boxplot de Revenue, CNT_EMPLOYEE, Mobile_potential and CNT_CB_Density para ambos datasets\n",
    "\n",
    "fig1, ax1 = pyplot.subplots() \n",
    "ax1.boxplot([customer_dt['Revenue'],noncustomer_dt['Revenue']], labels = ['Customer','No Customer'])\n",
    "plt.title('Revenue')\n",
    "\n",
    "fig2, ax2 = pyplot.subplots()\n",
    "ax2.boxplot([customer_dt['CNT_EMPLOYEE'],noncustomer_dt['CNT_EMPLOYEE']],labels = ['Customer','No Customer'])\n",
    "plt.title('CNT_EMPLOYEE')\n",
    "\n",
    "fig3, ax3 = pyplot.subplots()\n",
    "ax3.boxplot([customer_dt['Mobile_potential'],noncustomer_dt['Mobile_potential']],labels = ['Customer','No Customer'])\n",
    "plt.title('Mobile_potential')\n",
    "\n",
    "fig4, ax4 = pyplot.subplots()\n",
    "ax4.boxplot([customer_dt['CNT_CB_DENSITY'],noncustomer_dt['CNT_CB_DENSITY']],labels = ['Customer','No Customer'])\n",
    "plt.title('CNT_CB_DENSITY')\n",
    "\n",
    "plt.show()\n",
    "\n",
    "\n",
    "\n",
    "#Mayor num. de empleados\n",
    "print(\"CNT_EMPLOYEE higher customer: \",customer_dt['CNT_EMPLOYEE'].max())\n",
    "print(\"CNT_EMPLOYEE higher no customer: \",noncustomer_dt['CNT_EMPLOYEE'].max())\n",
    "\n",
    "#outliers clientes\n",
    "Q1 = np.quantile(customer_dt['Revenue'],.25) #Cuartil 1 \n",
    "Q3 = np.quantile(customer_dt['Revenue'],.75)#Cuartil 3 \n",
    "IQR = Q3-Q1 #rango intercuartil \n",
    "print(\"Outliers customer: \",np.sum((customer_dt['Revenue'] > Q3 + 1.5*IQR)*1))\n",
    "\n",
    "Q1_No_Client = np.quantile(noncustomer_dt['Revenue'],.25)#Cuartil 1 no clientes\n",
    "Q3_No_Client = np.quantile(noncustomer_dt['Revenue'],.75)\n",
    "IQR_No_Client  = Q3_No_Client - Q1_No_Client;\n",
    "print(\"Outliers No customer: \",np.sum((noncustomer_dt['Revenue'] > Q3 + 1.5*IQR)*1))\n",
    "\n",
    "#Cuartiles Revenue:\n",
    "print(\"\\nQuartiles Revenue:\") \n",
    "print(\"Q1: \",np.quantile(customer_dt['Revenue'],.25))\n",
    "print(\"Q2: \",np.quantile(customer_dt['Revenue'],.50))\n",
    "print(\"Q3: \",np.quantile(customer_dt['Revenue'],.75))\n",
    "\n",
    "#Cuartiles Mobile_potential:\n",
    "print(\"\\nQuartiles Mobile Potencial:\") \n",
    "print(\"Q1: \",np.quantile(customer_dt['Mobile_potential'],.25))\n",
    "print(\"Q2: \",np.quantile(customer_dt['Mobile_potential'],.50))\n",
    "print(\"Q3: \",np.quantile(customer_dt['Mobile_potential'],.75))\n",
    "\n",
    "\n",
    "\n",
    "\n"
   ]
  },
  {
   "cell_type": "markdown",
   "metadata": {
    "colab_type": "text",
    "id": "P4LaqjUyKLhm",
    "pycharm": {
     "name": "#%% md\n"
    }
   },
   "source": [
    "As we observe from the boxplots, some of them present outliers. There are several mechanisms to eliminate outliers. One option is to eliminate the values higher than a statistical value for each numerical variable."
   ]
  },
  {
   "cell_type": "markdown",
   "metadata": {
    "colab_type": "text",
    "id": "puFRcL_-KLhn",
    "pycharm": {
     "name": "#%% md\n"
    }
   },
   "source": [
    "[**EX4**] [**CODE**] Remove the values higher than 5* IQR for each variable: `Revenue`, `CNT_EMPLOYEE`, `Mobile_potential`, `CNT_CB_DENSITY`, `CNT_CB_MOB_DENSITY`and `CNT_CB_FN_DENSITY`. Compare with the boxplot of the previous exercise [**EX3**] and explain the differences."
   ]
  },
  {
   "cell_type": "code",
   "execution_count": 169,
   "metadata": {
    "pycharm": {
     "name": "#%%\n"
    }
   },
   "outputs": [
    {
     "data": {
      "image/png": "[encoded data removed]",
      "text/plain": [
       "<Figure size 432x288 with 1 Axes>"
      ]
     },
     "metadata": {
      "needs_background": "light"
     },
     "output_type": "display_data"
    },
    {
     "data": {
      "image/png": "[encoded data removed]",
      "text/plain": [
       "<Figure size 432x288 with 1 Axes>"
      ]
     },
     "metadata": {
      "needs_background": "light"
     },
     "output_type": "display_data"
    },
    {
     "data": {
      "image/png": "[encoded data removed]",
      "text/plain": [
       "<Figure size 432x288 with 1 Axes>"
      ]
     },
     "metadata": {
      "needs_background": "light"
     },
     "output_type": "display_data"
    },
    {
     "data": {
      "image/png": "[encoded data removed]",
      "text/plain": [
       "<Figure size 432x288 with 1 Axes>"
      ]
     },
     "metadata": {
      "needs_background": "light"
     },
     "output_type": "display_data"
    },
    {
     "data": {
      "image/png": "[encoded data removed]",
      "text/plain": [
       "<Figure size 432x288 with 1 Axes>"
      ]
     },
     "metadata": {
      "needs_background": "light"
     },
     "output_type": "display_data"
    },
    {
     "data": {
      "image/png": "[encoded data removed]",
      "text/plain": [
       "<Figure size 432x288 with 1 Axes>"
      ]
     },
     "metadata": {
      "needs_background": "light"
     },
     "output_type": "display_data"
    }
   ],
   "source": [
    "# Elimanamos valores altos 5*IQR para cada variable \n",
    "\n",
    "#Variable Revenue\n",
    "Q1 = np.quantile(customer_dt['Revenue'],.25) \n",
    "Q3 = np.quantile(customer_dt['Revenue'],.75)\n",
    "IQR = Q3-Q1\n",
    "Revenue = customer_dt[customer_dt['Revenue']<= 5*IQR]['Revenue']\n",
    "\n",
    "#Variable CNT_EMPLOYEE\n",
    "Q1 = np.quantile(customer_dt['CNT_EMPLOYEE'],.25) \n",
    "Q3 = np.quantile(customer_dt['CNT_EMPLOYEE'],.75)\n",
    "IQR = Q3-Q1\n",
    "CNT_EMPLOYEE = customer_dt[customer_dt['CNT_EMPLOYEE']<= 5*IQR]['CNT_EMPLOYEE']\n",
    "\n",
    "#Variable Mobile_potential\n",
    "Q1 = np.quantile(customer_dt['Mobile_potential'],.25) \n",
    "Q3 = np.quantile(customer_dt['Mobile_potential'],.75)\n",
    "IQR = Q3-Q1\n",
    "Mobile_potential = customer_dt[customer_dt['Mobile_potential']<= 5*IQR]['Mobile_potential']\n",
    "\n",
    "#Variable CNT_CB_DENSITY\n",
    "Q1 = np.quantile(customer_dt['CNT_CB_DENSITY'],.25) \n",
    "Q3 = np.quantile(customer_dt['CNT_CB_DENSITY'],.75)\n",
    "IQR = Q3-Q1\n",
    "CNT_CB_DENSITY = customer_dt[customer_dt['CNT_CB_DENSITY']<= 5*IQR]['CNT_CB_DENSITY']\n",
    "\n",
    "#Variable CNT_CB_MOB_DENSITY\n",
    "Q1 = np.quantile(customer_dt['CNT_CB_MOB_DENSITY'],.25) \n",
    "Q3 = np.quantile(customer_dt['CNT_CB_MOB_DENSITY'],.75)\n",
    "IQR = Q3-Q1\n",
    "CNT_CB_MOB_DENSITY = customer_dt[customer_dt['CNT_CB_MOB_DENSITY']<= 5*IQR]['CNT_CB_MOB_DENSITY']\n",
    "\n",
    "#Variable CNT_CB_FN_DENSITY\n",
    "Q1 = np.quantile(customer_dt['CNT_CB_FN_DENSITY'],.25) \n",
    "Q3 = np.quantile(customer_dt['CNT_CB_FN_DENSITY'],.75)\n",
    "IQR = Q3-Q1\n",
    "CNT_CB_FN_DENSITY = customer_dt[customer_dt['CNT_CB_FN_DENSITY']<= 5*IQR]['CNT_CB_FN_DENSITY']\n",
    "\n",
    "#Plot\n",
    "\n",
    "fig1, ax1 = pyplot.subplots()\n",
    "ax1.boxplot(Revenue)\n",
    "plt.title('Revenue')\n",
    "\n",
    "\n",
    "fig2, ax2 = pyplot.subplots()\n",
    "ax2.boxplot(CNT_EMPLOYEE)\n",
    "plt.title('CNT_EMPLOYEE')\n",
    "\n",
    "fig3, ax3 = pyplot.subplots()\n",
    "ax3.boxplot(Mobile_potential)\n",
    "plt.title('Mobile_potential')\n",
    "\n",
    "fig4, ax4 = pyplot.subplots()\n",
    "ax4.boxplot(CNT_CB_DENSITY)\n",
    "plt.title('CNT_CB_DENSITY')\n",
    "\n",
    "fig5, ax5 = pyplot.subplots()\n",
    "ax5.boxplot(CNT_CB_MOB_DENSITY)\n",
    "plt.title('CNT_CB_MOB_DENSITY')\n",
    "\n",
    "fig6, ax6 = pyplot.subplots()\n",
    "ax6.boxplot(CNT_CB_FN_DENSITY)\n",
    "plt.title('CNT_CB_FN_DENSITY')\n",
    "plt.show()\n"
   ]
  },
  {
   "cell_type": "markdown",
   "metadata": {
    "colab_type": "text",
    "id": "QT-ULfjoKLhv",
    "pycharm": {
     "name": "#%% md\n"
    }
   },
   "source": [
    "On the other hand, before applying any classification algorithm, it is necessary to transform non-numerical variables. The most common transformations are **coding as integer** or **coding as dummies**. Before deciding the mechanism it is important to analyze, for each categorical variable, their number of different values and their frequencies. In case of high number of possible values in comparision with the size of the dataset, **dummy** transformation could generate sparse matrix."
   ]
  },
  {
   "cell_type": "markdown",
   "metadata": {
    "colab_type": "text",
    "id": "TfWf0K_-KLhv",
    "pycharm": {
     "name": "#%% md\n"
    }
   },
   "source": [
    "[**EX5**] [**REPORT**] Calculate the ratio of the values of `City` for `customer_dt` and `noncustomer_dt` datasets. Compare the ratio of each category of each dataset."
   ]
  },
  {
   "cell_type": "markdown",
   "metadata": {
    "colab_type": "text",
    "id": "0bCyWWPTKLhy",
    "pycharm": {
     "name": "#%% md\n"
    }
   },
   "source": [
    "As the number of distinct values is high, we will apply a **integer** encoding through the LabelEncoder() transformation as follows:"
   ]
  },
  {
   "cell_type": "code",
   "execution_count": 170,
   "metadata": {
    "colab": {},
    "colab_type": "code",
    "id": "d3cN00r-KLhz",
    "pycharm": {
     "name": "#%%\n"
    }
   },
   "outputs": [],
   "source": [
    "City_Categ=customer_dt['City'].append(noncustomer_dt['City'])"
   ]
  },
  {
   "cell_type": "code",
   "execution_count": 171,
   "metadata": {
    "colab": {},
    "colab_type": "code",
    "id": "9fKR-_uXKLh2",
    "pycharm": {
     "name": "#%%\n"
    }
   },
   "outputs": [
    {
     "name": "stderr",
     "output_type": "stream",
     "text": [
      "C:\\Users\\Loly\\anaconda3\\lib\\site-packages\\pandas\\core\\indexing.py:1596: SettingWithCopyWarning: \n",
      "A value is trying to be set on a copy of a slice from a DataFrame.\n",
      "Try using .loc[row_indexer,col_indexer] = value instead\n",
      "\n",
      "See the caveats in the documentation: https://pandas.pydata.org/pandas-docs/stable/user_guide/indexing.html#returning-a-view-versus-a-copy\n",
      "  self.obj[key] = _infer_fill_value(value)\n",
      "C:\\Users\\Loly\\anaconda3\\lib\\site-packages\\pandas\\core\\indexing.py:1745: SettingWithCopyWarning: \n",
      "A value is trying to be set on a copy of a slice from a DataFrame.\n",
      "Try using .loc[row_indexer,col_indexer] = value instead\n",
      "\n",
      "See the caveats in the documentation: https://pandas.pydata.org/pandas-docs/stable/user_guide/indexing.html#returning-a-view-versus-a-copy\n",
      "  isetter(ilocs[0], value)\n"
     ]
    }
   ],
   "source": [
    "city_encoder=LabelEncoder()\n",
    "city_encoder.fit(City_Categ.values)\n",
    "customer_dt.loc[:,'City_coded']=city_encoder.transform(customer_dt['City'].values)\n",
    "noncustomer_dt.loc[:,'City_coded']=city_encoder.transform(noncustomer_dt['City'].values)"
   ]
  },
  {
   "cell_type": "code",
   "execution_count": 172,
   "metadata": {
    "colab": {},
    "colab_type": "code",
    "id": "azGmQ302KLh4",
    "outputId": "e9ce7943-0b7d-416e-a9dd-57855a2a8de6",
    "pycharm": {
     "name": "#%%\n"
    }
   },
   "outputs": [
    {
     "name": "stdout",
     "output_type": "stream",
     "text": [
      "Customer:  1111\n",
      "No Customer:  5876\n",
      "Ratio:  5.288928892889289\n"
     ]
    }
   ],
   "source": [
    "customer_dt.head()\n",
    "\n",
    "y_customer=customer_dt.groupby(['City_coded'])['City'].count()\n",
    "y_noncustomer =noncustomer_dt.groupby(['City_coded'])['City'].count()\n",
    "print(\"Customer: \",sum(y_customer))\n",
    "print(\"No Customer: \",sum(y_noncustomer))\n",
    "ratio= sum(y_noncustomer)/sum(y_customer)\n",
    "print(\"Ratio: \",ratio) "
   ]
  },
  {
   "cell_type": "markdown",
   "metadata": {
    "colab_type": "text",
    "id": "i5BjRBWgKLh7",
    "pycharm": {
     "name": "#%% md\n"
    }
   },
   "source": [
    "[**EX5**] [**CODE**] Finally before entering in the training stage,  let's create a `final_dataset` that is the result of stacking `customer_dt`and `noncustomer_dt`considering the following variables: `City_coded`, `Revenue`, `Sector`, `Legal_Form_Code`, `CNT_EMPLOYEE`, `CNT_CB_DENSITY`, `CNT_CB_MOB_DENSITY`, `CNT_CB_FN_DENSITY`and `Mobile_potential`. The 'final_dataset' should include a new variable, `Target`, that takes value **0** for noncustomers and **1** for customers registers. The `Target` will distiguish the two classes to train the model."
   ]
  },
  {
   "cell_type": "code",
   "execution_count": 173,
   "metadata": {
    "pycharm": {
     "name": "#%%\n"
    }
   },
   "outputs": [],
   "source": [
    "#Creamos el final datset\n",
    "\n",
    "dataset_C1 = customer_dt[['City_coded','Revenue','Sector','Legal_Form_Code','CNT_EMPLOYEE','CNT_CB_DENSITY','CNT_CB_MOB_DENSITY','CNT_CB_FN_DENSITY','Mobile_potential']].dropna() #eliminamos nulls\n",
    "dataset_C1[['Target']] = 1;#Creamos nueva columna Target con 1 para clientes\n",
    "\n",
    "dataset_C0 = noncustomer_dt[['City_coded','Revenue','Sector','Legal_Form_Code','CNT_EMPLOYEE','CNT_CB_DENSITY','CNT_CB_MOB_DENSITY','CNT_CB_FN_DENSITY','Mobile_potential']].dropna()\n",
    "dataset_C0[['Target']] = 0;#Creamos nueva columna Target con 0 para no clientes\n",
    "\n",
    "final_dataset = dataset_C1.append(dataset_C0)"
   ]
  },
  {
   "cell_type": "markdown",
   "metadata": {
    "colab_type": "text",
    "id": "yKmKSuHlKLh-",
    "pycharm": {
     "name": "#%% md\n"
    }
   },
   "source": [
    "The output should look like this:"
   ]
  },
  {
   "cell_type": "code",
   "execution_count": 174,
   "metadata": {
    "colab": {},
    "colab_type": "code",
    "id": "m4o5gxjCKLh_",
    "outputId": "96f50e93-e385-4694-f855-b6fc5ef2e15d",
    "pycharm": {
     "name": "#%%\n"
    }
   },
   "outputs": [
    {
     "data": {
      "text/html": [
       "<div>\n",
       "<style scoped>\n",
       "    .dataframe tbody tr th:only-of-type {\n",
       "        vertical-align: middle;\n",
       "    }\n",
       "\n",
       "    .dataframe tbody tr th {\n",
       "        vertical-align: top;\n",
       "    }\n",
       "\n",
       "    .dataframe thead th {\n",
       "        text-align: right;\n",
       "    }\n",
       "</style>\n",
       "<table border=\"1\" class=\"dataframe\">\n",
       "  <thead>\n",
       "    <tr style=\"text-align: right;\">\n",
       "      <th></th>\n",
       "      <th>City_coded</th>\n",
       "      <th>Revenue</th>\n",
       "      <th>Sector</th>\n",
       "      <th>Legal_Form_Code</th>\n",
       "      <th>CNT_EMPLOYEE</th>\n",
       "      <th>CNT_CB_DENSITY</th>\n",
       "      <th>CNT_CB_MOB_DENSITY</th>\n",
       "      <th>CNT_CB_FN_DENSITY</th>\n",
       "      <th>Mobile_potential</th>\n",
       "      <th>Target</th>\n",
       "    </tr>\n",
       "  </thead>\n",
       "  <tbody>\n",
       "    <tr>\n",
       "      <th>11548</th>\n",
       "      <td>824</td>\n",
       "      <td>4000000.0</td>\n",
       "      <td>42.0</td>\n",
       "      <td>14.0</td>\n",
       "      <td>13</td>\n",
       "      <td>891.0</td>\n",
       "      <td>867.0</td>\n",
       "      <td>62.0</td>\n",
       "      <td>1778.004205</td>\n",
       "      <td>1</td>\n",
       "    </tr>\n",
       "    <tr>\n",
       "      <th>11551</th>\n",
       "      <td>759</td>\n",
       "      <td>11780000.0</td>\n",
       "      <td>74.0</td>\n",
       "      <td>4.0</td>\n",
       "      <td>50</td>\n",
       "      <td>7.0</td>\n",
       "      <td>7.0</td>\n",
       "      <td>0.0</td>\n",
       "      <td>1899.663564</td>\n",
       "      <td>1</td>\n",
       "    </tr>\n",
       "    <tr>\n",
       "      <th>11553</th>\n",
       "      <td>467</td>\n",
       "      <td>2050000.0</td>\n",
       "      <td>43.0</td>\n",
       "      <td>14.0</td>\n",
       "      <td>16</td>\n",
       "      <td>30.0</td>\n",
       "      <td>30.0</td>\n",
       "      <td>1.0</td>\n",
       "      <td>1655.520125</td>\n",
       "      <td>1</td>\n",
       "    </tr>\n",
       "    <tr>\n",
       "      <th>11554</th>\n",
       "      <td>623</td>\n",
       "      <td>853500.0</td>\n",
       "      <td>63.0</td>\n",
       "      <td>14.0</td>\n",
       "      <td>13</td>\n",
       "      <td>870.0</td>\n",
       "      <td>842.0</td>\n",
       "      <td>77.0</td>\n",
       "      <td>1548.507315</td>\n",
       "      <td>1</td>\n",
       "    </tr>\n",
       "    <tr>\n",
       "      <th>11565</th>\n",
       "      <td>221</td>\n",
       "      <td>10680000.0</td>\n",
       "      <td>74.0</td>\n",
       "      <td>4.0</td>\n",
       "      <td>16</td>\n",
       "      <td>319.0</td>\n",
       "      <td>317.0</td>\n",
       "      <td>10.0</td>\n",
       "      <td>1746.128813</td>\n",
       "      <td>1</td>\n",
       "    </tr>\n",
       "  </tbody>\n",
       "</table>\n",
       "</div>"
      ],
      "text/plain": [
       "       City_coded     Revenue  Sector  Legal_Form_Code  CNT_EMPLOYEE  \\\n",
       "11548         824   4000000.0    42.0             14.0            13   \n",
       "11551         759  11780000.0    74.0              4.0            50   \n",
       "11553         467   2050000.0    43.0             14.0            16   \n",
       "11554         623    853500.0    63.0             14.0            13   \n",
       "11565         221  10680000.0    74.0              4.0            16   \n",
       "\n",
       "       CNT_CB_DENSITY  CNT_CB_MOB_DENSITY  CNT_CB_FN_DENSITY  \\\n",
       "11548           891.0               867.0               62.0   \n",
       "11551             7.0                 7.0                0.0   \n",
       "11553            30.0                30.0                1.0   \n",
       "11554           870.0               842.0               77.0   \n",
       "11565           319.0               317.0               10.0   \n",
       "\n",
       "       Mobile_potential  Target  \n",
       "11548       1778.004205       1  \n",
       "11551       1899.663564       1  \n",
       "11553       1655.520125       1  \n",
       "11554       1548.507315       1  \n",
       "11565       1746.128813       1  "
      ]
     },
     "execution_count": 174,
     "metadata": {},
     "output_type": "execute_result"
    }
   ],
   "source": [
    "final_dataset.head()"
   ]
  },
  {
   "cell_type": "code",
   "execution_count": 175,
   "metadata": {
    "colab": {},
    "colab_type": "code",
    "id": "zcWcoMGbKLiB",
    "outputId": "f6dba835-696b-42eb-f362-42d8143ca31d",
    "pycharm": {
     "name": "#%%\n"
    }
   },
   "outputs": [
    {
     "data": {
      "text/html": [
       "<div>\n",
       "<style scoped>\n",
       "    .dataframe tbody tr th:only-of-type {\n",
       "        vertical-align: middle;\n",
       "    }\n",
       "\n",
       "    .dataframe tbody tr th {\n",
       "        vertical-align: top;\n",
       "    }\n",
       "\n",
       "    .dataframe thead th {\n",
       "        text-align: right;\n",
       "    }\n",
       "</style>\n",
       "<table border=\"1\" class=\"dataframe\">\n",
       "  <thead>\n",
       "    <tr style=\"text-align: right;\">\n",
       "      <th></th>\n",
       "      <th>City_coded</th>\n",
       "      <th>Revenue</th>\n",
       "      <th>Sector</th>\n",
       "      <th>Legal_Form_Code</th>\n",
       "      <th>CNT_EMPLOYEE</th>\n",
       "      <th>CNT_CB_DENSITY</th>\n",
       "      <th>CNT_CB_MOB_DENSITY</th>\n",
       "      <th>CNT_CB_FN_DENSITY</th>\n",
       "      <th>Mobile_potential</th>\n",
       "      <th>Target</th>\n",
       "    </tr>\n",
       "  </thead>\n",
       "  <tbody>\n",
       "    <tr>\n",
       "      <th>11542</th>\n",
       "      <td>771</td>\n",
       "      <td>6391606.0</td>\n",
       "      <td>60.0</td>\n",
       "      <td>20.0</td>\n",
       "      <td>19</td>\n",
       "      <td>57.0</td>\n",
       "      <td>57.0</td>\n",
       "      <td>0.0</td>\n",
       "      <td>2006.059998</td>\n",
       "      <td>0</td>\n",
       "    </tr>\n",
       "    <tr>\n",
       "      <th>11543</th>\n",
       "      <td>1961</td>\n",
       "      <td>305000.0</td>\n",
       "      <td>60.0</td>\n",
       "      <td>4.0</td>\n",
       "      <td>13</td>\n",
       "      <td>9.0</td>\n",
       "      <td>9.0</td>\n",
       "      <td>0.0</td>\n",
       "      <td>1231.304840</td>\n",
       "      <td>0</td>\n",
       "    </tr>\n",
       "    <tr>\n",
       "      <th>11544</th>\n",
       "      <td>627</td>\n",
       "      <td>4200000.0</td>\n",
       "      <td>23.0</td>\n",
       "      <td>14.0</td>\n",
       "      <td>50</td>\n",
       "      <td>62.0</td>\n",
       "      <td>62.0</td>\n",
       "      <td>6.0</td>\n",
       "      <td>1958.236002</td>\n",
       "      <td>0</td>\n",
       "    </tr>\n",
       "    <tr>\n",
       "      <th>11545</th>\n",
       "      <td>2011</td>\n",
       "      <td>1336495.0</td>\n",
       "      <td>60.0</td>\n",
       "      <td>16.0</td>\n",
       "      <td>16</td>\n",
       "      <td>63.0</td>\n",
       "      <td>61.0</td>\n",
       "      <td>2.0</td>\n",
       "      <td>1703.188202</td>\n",
       "      <td>0</td>\n",
       "    </tr>\n",
       "    <tr>\n",
       "      <th>11546</th>\n",
       "      <td>1035</td>\n",
       "      <td>4593054.0</td>\n",
       "      <td>64.0</td>\n",
       "      <td>14.0</td>\n",
       "      <td>41</td>\n",
       "      <td>90.0</td>\n",
       "      <td>90.0</td>\n",
       "      <td>5.0</td>\n",
       "      <td>1985.888315</td>\n",
       "      <td>0</td>\n",
       "    </tr>\n",
       "  </tbody>\n",
       "</table>\n",
       "</div>"
      ],
      "text/plain": [
       "       City_coded    Revenue  Sector  Legal_Form_Code  CNT_EMPLOYEE  \\\n",
       "11542         771  6391606.0    60.0             20.0            19   \n",
       "11543        1961   305000.0    60.0              4.0            13   \n",
       "11544         627  4200000.0    23.0             14.0            50   \n",
       "11545        2011  1336495.0    60.0             16.0            16   \n",
       "11546        1035  4593054.0    64.0             14.0            41   \n",
       "\n",
       "       CNT_CB_DENSITY  CNT_CB_MOB_DENSITY  CNT_CB_FN_DENSITY  \\\n",
       "11542            57.0                57.0                0.0   \n",
       "11543             9.0                 9.0                0.0   \n",
       "11544            62.0                62.0                6.0   \n",
       "11545            63.0                61.0                2.0   \n",
       "11546            90.0                90.0                5.0   \n",
       "\n",
       "       Mobile_potential  Target  \n",
       "11542       2006.059998       0  \n",
       "11543       1231.304840       0  \n",
       "11544       1958.236002       0  \n",
       "11545       1703.188202       0  \n",
       "11546       1985.888315       0  "
      ]
     },
     "execution_count": 175,
     "metadata": {},
     "output_type": "execute_result"
    }
   ],
   "source": [
    "final_dataset.tail()"
   ]
  },
  {
   "cell_type": "markdown",
   "metadata": {
    "colab_type": "text",
    "id": "riT4OdRHKLiD",
    "pycharm": {
     "name": "#%% md\n"
    }
   },
   "source": [
    "To measure the quality of our classifiers, it is necessary to train and test the models with different datasets. For this objective we will use [train_test_split](https://scikit-learn.org/stable/modules/generated/sklearn.model_selection.train_test_split.html) function to generate 4 new datasets: 2 for training and 2 for test: \n",
    "- `X_train`: contains all variables except `Target` for the 80% of `final_dataset`,\n",
    "- `y_train`: contains `Target`variables for the 80% of `final_dataset`, \n",
    "- `X_test`: contains all variables except `Target` for the 20% of `final_dataset`,\n",
    "- `y_test`: contains `Target`variables for the 20% of `final_dataset`."
   ]
  },
  {
   "cell_type": "code",
   "execution_count": 176,
   "metadata": {
    "colab": {},
    "colab_type": "code",
    "id": "53-vr7DKKLiD",
    "pycharm": {
     "name": "#%%\n"
    }
   },
   "outputs": [],
   "source": [
    "X_train, X_test, y_train, y_test= train_test_split (final_dataset.iloc[:,:-1], final_dataset.iloc[:,-1], test_size=0.2, random_state=42) "
   ]
  },
  {
   "cell_type": "markdown",
   "metadata": {
    "colab_type": "text",
    "id": "n-pLvA3EKLiJ",
    "pycharm": {
     "name": "#%% md\n"
    }
   },
   "source": [
    "[**EX6**] [**REPORT**] Calculate the lenght of `X_train` and `X_test` datasets. Is it aligned with the `test_size`value selected in the split?"
   ]
  },
  {
   "cell_type": "code",
   "execution_count": 177,
   "metadata": {
    "pycharm": {
     "name": "#%%\n"
    }
   },
   "outputs": [
    {
     "name": "stdout",
     "output_type": "stream",
     "text": [
      "Lenght X_Train:  50301\n",
      "Lenght X_Test:  12582\n",
      "Train:  80.0 %\n"
     ]
    }
   ],
   "source": [
    "\n",
    "print(\"Lenght X_Train: \",np.size(X_train))\n",
    "print(\"Lenght X_Test: \",np.size(X_test))\n",
    "X_train_per = np.size(X_train)/(np.size(X_train) + np.size(X_test))\n",
    "print(\"Train: \",round(X_train_per, 2)*100,\"%\")"
   ]
  },
  {
   "cell_type": "markdown",
   "metadata": {
    "colab_type": "text",
    "id": "0Doge9L_KLiM",
    "pycharm": {
     "name": "#%% md\n"
    }
   },
   "source": [
    "[**EX7**] [**REPORT**] Draw the histograms of `y_train`and `y_test`. Is the dataset balanced (similar number of rows for each class or Target) or imbalanced ? How do you think it could affect to quality of the classifier?"
   ]
  },
  {
   "cell_type": "code",
   "execution_count": 178,
   "metadata": {
    "pycharm": {
     "name": "#%%\n"
    }
   },
   "outputs": [
    {
     "data": {
      "image/png": "[encoded data removed]",
      "text/plain": [
       "<Figure size 432x288 with 1 Axes>"
      ]
     },
     "metadata": {
      "needs_background": "light"
     },
     "output_type": "display_data"
    },
    {
     "data": {
      "image/png": "[encoded data removed]",
      "text/plain": [
       "<Figure size 432x288 with 1 Axes>"
      ]
     },
     "metadata": {
      "needs_background": "light"
     },
     "output_type": "display_data"
    }
   ],
   "source": [
    "#Histogram y_train\n",
    "plt.figure()\n",
    "plt.hist(y_train)\n",
    "plt.title('TRAIN')\n",
    "plt.show()\n",
    "\n",
    "#Histogram y_test\n",
    "plt.figure()\n",
    "plt.hist(y_test)\n",
    "plt.title('TEST')\n",
    "plt.show()"
   ]
  },
  {
   "cell_type": "markdown",
   "metadata": {
    "colab_type": "text",
    "id": "pVofh0d-KLiT",
    "pycharm": {
     "name": "#%% md\n"
    }
   },
   "source": [
    "# 2. Model Training: from baseline models to ensemble¶"
   ]
  },
  {
   "cell_type": "markdown",
   "metadata": {
    "colab_type": "text",
    "id": "P58EvGU1KLiT",
    "pycharm": {
     "name": "#%% md\n"
    }
   },
   "source": [
    "Now we are ready to enter in the training stage of the machine learning models. The common way to procedure is starting with baseline models (i.e. SVM, Decision Trees, Naive Bayes, etc....) and later, try to improve it adjusting hyperparameters of the models or creating more complex models architectures as ensembles."
   ]
  },
  {
   "cell_type": "markdown",
   "metadata": {
    "colab_type": "text",
    "id": "hKyfjGlmKLiU",
    "pycharm": {
     "name": "#%% md\n"
    }
   },
   "source": [
    "## 2.1. Baseline of models: Training and evaluation"
   ]
  },
  {
   "cell_type": "markdown",
   "metadata": {
    "colab_type": "text",
    "id": "eWN0sijJKLiU",
    "pycharm": {
     "name": "#%% md\n"
    }
   },
   "source": [
    "In the following section we are training a SVM, Decision Tree and Naive Bayes algorithms. To do it, we will use the `X_train`and `y_train`datasets.\n",
    "Later on we will evaluate the performance (i.e. **accuracy**, **confusion matrix**, **recall** and **precision**) of each model with the `test`dataset, i.e. `X_test`and `y_test`.\n",
    "\n",
    "\n",
    "Tip 1: You may use [classification_report()](https://scikit-learn.org/stable/modules/generated/sklearn.metrics.classification_report.html) from Sklearn library to calculate the **precision**, **recall** of the model.\n",
    "\n",
    "Tip 2: You may use [confusion_matrix()](https://scikit-learn.org/stable/modules/generated/sklearn.metrics.confusion_matrix.html) from Sklearn library to calculate the confusion matrix of a model.\n",
    "\n",
    "Tip 3: When using Sklearn library, you may use the function **.score(X_test, y_test)** to calculate the accuracy value."
   ]
  },
  {
   "cell_type": "markdown",
   "metadata": {
    "colab_type": "text",
    "id": "2zQCoC5JKLiV",
    "pycharm": {
     "name": "#%% md\n"
    }
   },
   "source": [
    "### Classification with a SVM model"
   ]
  },
  {
   "cell_type": "markdown",
   "metadata": {
    "colab_type": "text",
    "id": "VnWGf-D6KLiV",
    "pycharm": {
     "name": "#%% md\n"
    }
   },
   "source": [
    "[**EX8**] [**CODE**] Train the SVM classifier of the Sklearn library. Evaluate the following metrics for kernel=\"rbf\":\n",
    "- Which is **precision**, **recall** and **accuracy** of the algorithm?\n",
    "- Which is the **confusion matrix**?\n",
    "- Is the algorithm classifying both classes (Target=0 and Target=1) in a similar way? Why?\n",
    "- Compare the **precision** and **recall** of the **training** dataset (i.e.`X_train`and `y_train`) vs the **test** dataset (i.e. `X_test`and `y_test`). Which is better? Why? Which is the correct measure to estimate the performance for other unseen datasets? Why?"
   ]
  },
  {
   "cell_type": "code",
   "execution_count": 179,
   "metadata": {
    "pycharm": {
     "name": "#%%\n"
    }
   },
   "outputs": [
    {
     "name": "stdout",
     "output_type": "stream",
     "text": [
      "              precision    recall  f1-score   support\n",
      "\n",
      "           0       0.83      1.00      0.91      1165\n",
      "           1       0.00      0.00      0.00       233\n",
      "\n",
      "    accuracy                           0.83      1398\n",
      "   macro avg       0.42      0.50      0.45      1398\n",
      "weighted avg       0.69      0.83      0.76      1398\n",
      "\n",
      "[[1165    0]\n",
      " [ 233    0]]\n",
      "              precision    recall  f1-score   support\n",
      "\n",
      "           0       0.84      1.00      0.91      4711\n",
      "           1       0.00      0.00      0.00       878\n",
      "\n",
      "    accuracy                           0.84      5589\n",
      "   macro avg       0.42      0.50      0.46      5589\n",
      "weighted avg       0.71      0.84      0.77      5589\n",
      "\n",
      "[[4711    0]\n",
      " [ 878    0]]\n"
     ]
    },
    {
     "name": "stderr",
     "output_type": "stream",
     "text": [
      "C:\\Users\\Loly\\anaconda3\\lib\\site-packages\\sklearn\\metrics\\_classification.py:1221: UndefinedMetricWarning: Precision and F-score are ill-defined and being set to 0.0 in labels with no predicted samples. Use `zero_division` parameter to control this behavior.\n",
      "  _warn_prf(average, modifier, msg_start, len(result))\n"
     ]
    }
   ],
   "source": [
    "#Creamos un model basado en Support Vector Machine\n",
    "model_SVC = SVC(kernel=\"rbf\")\n",
    "model_SVC.fit(X_train, y_train) #Entrenamos el modelo\n",
    "y_pred_SVC = model_SVC.predict(X_test) #Test\n",
    "\n",
    "result_SVC=model_SVC.score(X_test, y_test) #Print the score of the trained model\n",
    "result_SVC_train=model_SVC.score(X_train, y_train) #Print the score of the trained model\n",
    "y_pred_SVC_train=model_SVC.predict(X_train) #Test the trained model with test samples\n",
    "\n",
    "print(classification_report(y_test,y_pred_SVC))\n",
    "print(confusion_matrix(y_test,y_pred_SVC))\n",
    "\n",
    "print(classification_report(y_train,y_pred_SVC_train))\n",
    "print(confusion_matrix(y_train,y_pred_SVC_train))"
   ]
  },
  {
   "cell_type": "markdown",
   "metadata": {
    "colab_type": "text",
    "id": "jBTK-h4cKLiY",
    "pycharm": {
     "name": "#%% md\n"
    }
   },
   "source": [
    "### Classification with a Decision Tree model"
   ]
  },
  {
   "cell_type": "markdown",
   "metadata": {
    "colab_type": "text",
    "id": "DMRkY9uvKLiY",
    "pycharm": {
     "name": "#%% md\n"
    }
   },
   "source": [
    "[**EX9**] [**CODE**] Train the Decision Tree algorithm from Sklearn library. Evaluate the following metrics:\n",
    "- Which is **precision**, **recall** and **accuracy** of the algorithm?\n",
    "- Which is the **confusion matrix**?\n",
    "- Is Decision Tree algorithm working better than SVM? Why?"
   ]
  },
  {
   "cell_type": "code",
   "execution_count": 180,
   "metadata": {
    "pycharm": {
     "name": "#%%\n"
    }
   },
   "outputs": [
    {
     "name": "stdout",
     "output_type": "stream",
     "text": [
      "              precision    recall  f1-score   support\n",
      "\n",
      "           0       0.86      0.84      0.85      1165\n",
      "           1       0.29      0.32      0.30       233\n",
      "\n",
      "    accuracy                           0.76      1398\n",
      "   macro avg       0.58      0.58      0.58      1398\n",
      "weighted avg       0.77      0.76      0.76      1398\n",
      "\n",
      "[[981 184]\n",
      " [158  75]]\n"
     ]
    }
   ],
   "source": [
    "#Clasificador basado en Decision Tree\n",
    "\n",
    "model_DT = DecisionTreeClassifier()\n",
    "model_DT.fit(X_train, y_train)\n",
    "y_pred_DT=model_DT.predict(X_test)\n",
    "\n",
    "result_DT=model_DT.score(X_test, y_test)\n",
    "\n",
    "print(classification_report(y_test,y_pred_DT))\n",
    "print(confusion_matrix(y_test,y_pred_DT))"
   ]
  },
  {
   "cell_type": "markdown",
   "metadata": {
    "colab_type": "text",
    "id": "VxSee22YKLiy",
    "pycharm": {
     "name": "#%% md\n"
    }
   },
   "source": [
    "### Comparing algorithm consistenly: KFold cross-validation"
   ]
  },
  {
   "cell_type": "markdown",
   "metadata": {
    "colab_type": "text",
    "id": "K-n_MHhvKLiz",
    "pycharm": {
     "name": "#%% md\n"
    }
   },
   "source": [
    "When we are looking for the best algorithm to classify a dataset, it is very useful to compare all of them. Besides, to protect the training from **overfitting** and calculate the performance with less variance than a single train-test split, it is uselful to apply **K-Fold cross-validation**. The way that KFolds works is splitting the dataset into k-parts or **fold** (e.g. k = 3, 5 or k = 10). The algorithm is trained on k − 1 folds with one held back and tested on the held back fold."
   ]
  },
  {
   "cell_type": "markdown",
   "metadata": {
    "colab_type": "text",
    "id": "23xG-yXNKLiz",
    "pycharm": {
     "name": "#%% md\n"
    }
   },
   "source": [
    "[**EX10**] [**CODE**] Train a SVM and Decision Tree algorithms using a KFold cross-validation with **k=5** and calculate the **mean** and **standard deviation** of the **accuracy**. Plot a boxplot of the accuracy for every model. Which is the model with better mean value of the accuracy? Which is the algorithm with less deviation on the accuracy?  \n",
    "\n",
    "Tip 1: You may use [KFold](https://scikit-learn.org/stable/modules/generated/sklearn.model_selection.KFold.html) to apply cross-validation."
   ]
  },
  {
   "cell_type": "code",
   "execution_count": 181,
   "metadata": {
    "pycharm": {
     "name": "#%%\n"
    }
   },
   "outputs": [
    {
     "name": "stdout",
     "output_type": "stream",
     "text": [
      "Model SVM with accuracy (mean): 0.842905707640007 and accuracy (std): 0.003542492373094188\n",
      "Model Decision_trees with accuracy (mean): 0.7534442655215603 and accuracy (std): 0.004827603350592987\n"
     ]
    },
    {
     "data": {
      "image/png": "[encoded data removed]",
      "text/plain": [
       "<Figure size 432x288 with 1 Axes>"
      ]
     },
     "metadata": {
      "needs_background": "light"
     },
     "output_type": "display_data"
    }
   ],
   "source": [
    "#Models definition\n",
    "models=[]\n",
    "models.append(('SVM', SVC()))\n",
    "models.append(('Decision_trees', DecisionTreeClassifier()))\n",
    "#Evaluate each models\n",
    "results=[]\n",
    "names=[]\n",
    "scoring_metric='accuracy'\n",
    "for name_model, model in models:\n",
    "    kfold= KFold(n_splits=3, random_state=10,shuffle = True)\n",
    "    cv_results=cross_val_score(model, X_train, y_train, cv=kfold, scoring=scoring_metric)\n",
    "    results.append(cv_results)\n",
    "    names.append(name_model)\n",
    "    print (\"Model\", name_model, \"with accuracy (mean):\", cv_results.mean(), \"and accuracy (std):\", cv_results.std())\n",
    "\n",
    "\n",
    "\n",
    "#boxplot for algorithm comparison\n",
    "fig=pyplot.figure()\n",
    "fig.suptitle (\"Algorithm accuracy comparison\")\n",
    "ax=fig.add_subplot(111)\n",
    "pyplot.boxplot(results)\n",
    "ax.set_xticklabels(names)\n",
    "pyplot.show()"
   ]
  },
  {
   "cell_type": "markdown",
   "metadata": {
    "colab_type": "text",
    "id": "_aEAtktzKLi2",
    "pycharm": {
     "name": "#%% md\n"
    }
   },
   "source": [
    "The output of the boxplots should look like this:"
   ]
  },
  {
   "cell_type": "code",
   "execution_count": 182,
   "metadata": {
    "colab": {},
    "colab_type": "code",
    "id": "bynq6I3OKLi3",
    "outputId": "277f042a-2371-47c5-bf2a-16b9926bd98a",
    "scrolled": false,
    "pycharm": {
     "name": "#%%\n"
    }
   },
   "outputs": [
    {
     "data": {
      "image/png": "[encoded data removed]",
      "text/plain": [
       "<Figure size 432x288 with 1 Axes>"
      ]
     },
     "metadata": {
      "needs_background": "light"
     },
     "output_type": "display_data"
    }
   ],
   "source": [
    "#boxplot for algorithm comparison\n",
    "fig=pyplot.figure()\n",
    "fig.suptitle (\"Algorithm accuracy comparison\")\n",
    "ax=fig.add_subplot(111)\n",
    "pyplot.boxplot(results)\n",
    "ax.set_xticklabels(names)\n",
    "pyplot.show()"
   ]
  },
  {
   "cell_type": "markdown",
   "metadata": {
    "colab_type": "text",
    "id": "5h_URjohKLi6",
    "pycharm": {
     "name": "#%% md\n"
    }
   },
   "source": [
    "## 2.2 Improving the model"
   ]
  },
  {
   "cell_type": "markdown",
   "metadata": {
    "colab_type": "text",
    "id": "zDgLSJn_KLi7",
    "pycharm": {
     "name": "#%% md\n"
    }
   },
   "source": [
    "As we observe from the baseline models, even though the accuracy is over 70% the classifiers don't distinguish properly both classes, i.e. **Target=1** and **Target=0**.  \n",
    "In this scenario, we should apply another strategies to improve the perfomance. There are several options: from adjusting the balance of the classes or doing the fine tuning of the hyperparameters of the models (for instance the type of kernel in SVM or the minimum number of samples per leaf in Decision Tree) to combine differents models to create ensembles.\n",
    "In this section, we will evaluate our classifiers in two ways:\n",
    "- Forcing the balancing of both classes\n",
    "- Building ensembles of models"
   ]
  },
  {
   "cell_type": "markdown",
   "metadata": {
    "colab_type": "text",
    "id": "0xGX62GJKLi8",
    "pycharm": {
     "name": "#%% md\n"
    }
   },
   "source": [
    "### Balancing the dataset"
   ]
  },
  {
   "cell_type": "markdown",
   "metadata": {
    "colab_type": "text",
    "id": "7HL7D2DvKLi8",
    "pycharm": {
     "name": "#%% md\n"
    }
   },
   "source": [
    "Let's check the type of balancing we have in our training and test datasets."
   ]
  },
  {
   "cell_type": "markdown",
   "metadata": {
    "colab_type": "text",
    "id": "EV6OfIKgKLi9",
    "pycharm": {
     "name": "#%% md\n"
    }
   },
   "source": [
    "[**EX11**][**CODE**] Split the previous `final_dataset`in two datasets: `customer_dt` for class 1 and `noncustomer_dt`for class 0. Calculate the number of samples for the **customers** class (i.e. Target=1) and for the **noncustomers** class (i.e. Target=0). Is the `final_dataset`balanced or imbalanced? Explain two options to match both datasets.\n"
   ]
  },
  {
   "cell_type": "code",
   "execution_count": 183,
   "metadata": {
    "pycharm": {
     "name": "#%%\n"
    }
   },
   "outputs": [
    {
     "name": "stdout",
     "output_type": "stream",
     "text": [
      "Customers:  1111\n",
      "No customers:  5876\n"
     ]
    }
   ],
   "source": [
    "#Num de muestras para cada clase\n",
    "customer_dt = final_dataset[final_dataset['Target']==1];\n",
    "noncustomer_dt = final_dataset[final_dataset['Target']==0];\n",
    "print(\"Customers: \",len(customer_dt))\n",
    "print(\"No customers: \",len(noncustomer_dt))"
   ]
  },
  {
   "cell_type": "markdown",
   "metadata": {
    "colab_type": "text",
    "id": "w9rVOQ5iKLjD",
    "pycharm": {
     "name": "#%% md\n"
    }
   },
   "source": [
    "Let's undersample the `noncustomer_dt` to balance both datasets:"
   ]
  },
  {
   "cell_type": "code",
   "execution_count": 184,
   "metadata": {
    "colab": {},
    "colab_type": "code",
    "id": "8a9L5o8iKLjE",
    "outputId": "d98a1048-c96e-4d0a-fee4-61f71bdbb955",
    "pycharm": {
     "name": "#%%\n"
    }
   },
   "outputs": [
    {
     "name": "stdout",
     "output_type": "stream",
     "text": [
      "The new number of samples in noncustomer dataset is: 1111\n"
     ]
    }
   ],
   "source": [
    "noncustomer_dt_sample=noncustomer_dt.sample(1111) #recortamos el que tiene menor valor\n",
    "print(\"The new number of samples in noncustomer dataset is:\", len(noncustomer_dt_sample))"
   ]
  },
  {
   "cell_type": "markdown",
   "metadata": {
    "colab_type": "text",
    "id": "P2l66X4jKLjG",
    "pycharm": {
     "name": "#%% md\n"
    }
   },
   "source": [
    "If we append both datasets, the **customer_dt** and the **noncustomer_dt_sample**, the new `final_dataset`looks like:"
   ]
  },
  {
   "cell_type": "code",
   "execution_count": 185,
   "metadata": {
    "colab": {},
    "colab_type": "code",
    "id": "C0WTasz3KLjH",
    "outputId": "472f4dbb-8f83-4be0-c454-95e35f3e661b",
    "pycharm": {
     "name": "#%%\n"
    }
   },
   "outputs": [
    {
     "data": {
      "text/plain": [
       "<AxesSubplot:>"
      ]
     },
     "execution_count": 185,
     "metadata": {},
     "output_type": "execute_result"
    },
    {
     "data": {
      "image/png": "[encoded data removed]",
      "text/plain": [
       "<Figure size 432x288 with 1 Axes>"
      ]
     },
     "metadata": {
      "needs_background": "light"
     },
     "output_type": "display_data"
    }
   ],
   "source": [
    "final_dataset=customer_dt.append(noncustomer_dt_sample).reset_index().drop('index', axis=1)\n",
    "final_dataset=final_dataset.loc[:,['City_coded', 'Revenue', 'Sector', 'Legal_Form_Code', 'CNT_EMPLOYEE', 'CNT_CB_DENSITY',\n",
    "                            'CNT_CB_MOB_DENSITY', 'CNT_CB_FN_DENSITY', 'Mobile_potential','Target']]\n",
    "final_dataset.Target.hist()"
   ]
  },
  {
   "cell_type": "markdown",
   "metadata": {
    "colab_type": "text",
    "id": "ZQ0HyRiOKLjJ",
    "pycharm": {
     "name": "#%% md\n"
    }
   },
   "source": [
    "[**EX12**][**CODE**][**REPORT**] Train a SVC and Decision Tree algorithm with the new `final_dataset`. Evaluate the **recall**, **precision** and **confusion matrix** of all 3 models.\n",
    "- Which has better accuracy?\n",
    "- Which is the model with better recall? And accuracy?\n",
    "- Which model you recommend to classify both classes? Justify your answer"
   ]
  },
  {
   "cell_type": "code",
   "execution_count": 186,
   "metadata": {
    "pycharm": {
     "name": "#%%\n"
    }
   },
   "outputs": [
    {
     "name": "stdout",
     "output_type": "stream",
     "text": [
      "\n",
      " Support Vector Machine\n",
      "\n",
      "              precision    recall  f1-score   support\n",
      "\n",
      "           0       0.50      0.84      0.63       349\n",
      "           1       0.64      0.25      0.36       385\n",
      "\n",
      "    accuracy                           0.53       734\n",
      "   macro avg       0.57      0.55      0.49       734\n",
      "weighted avg       0.57      0.53      0.49       734\n",
      "\n",
      "[[294  55]\n",
      " [289  96]]\n",
      "\n",
      " Decision Tree\n",
      "\n",
      "              precision    recall  f1-score   support\n",
      "\n",
      "           0       0.55      0.60      0.57       349\n",
      "           1       0.60      0.56      0.58       385\n",
      "\n",
      "    accuracy                           0.57       734\n",
      "   macro avg       0.58      0.58      0.57       734\n",
      "weighted avg       0.58      0.57      0.58       734\n",
      "\n",
      "[[208 141]\n",
      " [171 214]]\n"
     ]
    }
   ],
   "source": [
    "X_train, X_test, y_train, y_test= train_test_split (final_dataset.iloc[:,:-1], final_dataset.iloc[:,-1], test_size=0.33, random_state=42) \n",
    "\n",
    "#Support Vector Machine con datos balanceados\n",
    "print(\"\\n Support Vector Machine\\n\")\n",
    "model_SVC = SVC(kernel=\"rbf\")#Create the model based SVC and kernel by defaul is \"rbf\"\n",
    "model_SVC.fit(X_train, y_train) #Entrenamos el modelo\n",
    "y_pred_SVC=model_SVC.predict(X_test) #Test \n",
    "\n",
    "#printemaos los scores de los modelos entrenados y testeamos el modelo\n",
    "result_SVC=model_SVC.score(X_test,y_test)#Print the score of the trained model\n",
    "\n",
    "print(classification_report(y_test, y_pred_SVC))\n",
    "print(confusion_matrix(y_test, y_pred_SVC))\n",
    "\n",
    "#Decision Tree con datos balanceados\n",
    "print(\"\\n Decision Tree\\n\")\n",
    "model_DT = DecisionTreeClassifier()\n",
    "model_DT.fit(X_train, y_train)\n",
    "y_pred_DT=model_DT.predict(X_test)\n",
    "\n",
    "result_DT=model_DT.score(X_test, y_test)\n",
    "\n",
    "print(classification_report(y_test,y_pred_DT))\n",
    "print(confusion_matrix(y_test,y_pred_DT))\n",
    "\n"
   ]
  },
  {
   "cell_type": "markdown",
   "metadata": {
    "colab_type": "text",
    "id": "So2hzc-BKLjU",
    "pycharm": {
     "name": "#%% md\n"
    }
   },
   "source": [
    "### Ensembling models"
   ]
  },
  {
   "cell_type": "markdown",
   "metadata": {
    "colab_type": "text",
    "id": "7GbOE6CMKLjU",
    "pycharm": {
     "name": "#%% md\n"
    }
   },
   "source": [
    "Another mechanism to improve the performance of a classifier is to combine several algorithms. The three most popular methods for combining models are:\n",
    "- Bagging combines multiple models that are trained with different subsamples of the training dataset.\n",
    "- Boosting combines multiple models in cascade and each of them learns to fix the prediction errors of the prior model.\n",
    "- Voting combines statistically the output of several models.\n",
    "\n",
    "Usually Bagging and Boosting are formed by models of the same type meanwhile voting could be formed by different models."
   ]
  },
  {
   "cell_type": "markdown",
   "metadata": {
    "colab_type": "text",
    "id": "NgkK3L4xKLjV",
    "pycharm": {
     "name": "#%% md\n"
    }
   },
   "source": [
    "### Voting ensemble"
   ]
  },
  {
   "cell_type": "markdown",
   "metadata": {
    "colab_type": "text",
    "id": "24SsOU59KLjW",
    "pycharm": {
     "name": "#%% md\n"
    }
   },
   "source": [
    "[**EX13**][**CODE**][**REPORT**] Build a **voting** ensemble formed by a SVM and Decision Tree and train it with the balanced training dataset. Calculate the **precision**, **recall** and **confusion matrix** of the new classifier. Is it better than any of the previous baseline models? Justify your answer.\n",
    "\n",
    "Tip: You may use [VotingClassifier()](https://scikit-learn.org/stable/modules/generated/sklearn.ensemble.VotingClassifier.html) to build this type of ensemble."
   ]
  },
  {
   "cell_type": "code",
   "execution_count": 187,
   "metadata": {
    "pycharm": {
     "name": "#%%\n"
    }
   },
   "outputs": [
    {
     "name": "stdout",
     "output_type": "stream",
     "text": [
      "              precision    recall  f1-score   support\n",
      "\n",
      "           0       0.50      0.91      0.64       349\n",
      "           1       0.67      0.16      0.26       385\n",
      "\n",
      "    accuracy                           0.52       734\n",
      "   macro avg       0.58      0.54      0.45       734\n",
      "weighted avg       0.59      0.52      0.44       734\n",
      "\n",
      "[[319  30]\n",
      " [324  61]]\n"
     ]
    }
   ],
   "source": [
    "cf1 = SVC() #clasificador de SVM\n",
    "cf2 = DecisionTreeClassifier() #clasificador de DT\n",
    "\n",
    "cf = VotingClassifier(estimators=[('SVC',cf1), ('DT', cf2)], voting='hard');\n",
    "cf = cf.fit(X_train, y_train)\n",
    "y_pred_cf=cf.predict(X_test)\n",
    "\n",
    "print(classification_report(y_test, y_pred_cf))\n",
    "print(confusion_matrix(y_test, y_pred_cf))"
   ]
  },
  {
   "cell_type": "markdown",
   "metadata": {
    "colab_type": "text",
    "id": "ocJiGPkJKLjY",
    "pycharm": {
     "name": "#%% md\n"
    }
   },
   "source": [
    "### Bagging ensemble: Random Forest"
   ]
  },
  {
   "cell_type": "markdown",
   "metadata": {
    "colab_type": "text",
    "id": "LQMj5ap5KLjZ",
    "pycharm": {
     "name": "#%% md\n"
    }
   },
   "source": [
    "[**EX14**][**CODE**][**REPORT**] Build a **Bagging** ensemble based on Random Forest. Random Forest is considered a bagging ensemble formed by Decision Trees algorithms. Train the Random Forest with the balanced training dataset, i.e. `X_train` and `y_train`. Calculate the **precision**, **recall** and **confusion matrix** of the new classifier. Is it better than any of the previous baseline models? Justify your answer.\n",
    "\n",
    "Tip: You may use [RandomForestClassifier()](https://scikit-learn.org/stable/modules/generated/sklearn.ensemble.RandomForestClassifier.html) to build this type of ensemble."
   ]
  },
  {
   "cell_type": "code",
   "execution_count": 188,
   "metadata": {
    "pycharm": {
     "name": "#%%\n"
    }
   },
   "outputs": [
    {
     "name": "stdout",
     "output_type": "stream",
     "text": [
      "Random Forest\n",
      "\n",
      "              precision    recall  f1-score   support\n",
      "\n",
      "           0       0.58      0.67      0.62       349\n",
      "           1       0.66      0.56      0.61       385\n",
      "\n",
      "    accuracy                           0.62       734\n",
      "   macro avg       0.62      0.62      0.62       734\n",
      "weighted avg       0.62      0.62      0.62       734\n",
      "\n",
      "[[235 114]\n",
      " [168 217]]\n"
     ]
    }
   ],
   "source": [
    "#Random Forest\n",
    "RFcf = RandomForestClassifier()\n",
    "RFcf = RFcf.fit(X_train, y_train)\n",
    "y_pred_RFcf=RFcf.predict(X_test)\n",
    "\n",
    "print(\"Random Forest\\n\")\n",
    "print(classification_report(y_test, y_pred_RFcf))\n",
    "print(confusion_matrix(y_test, y_pred_RFcf))"
   ]
  },
  {
   "cell_type": "markdown",
   "metadata": {
    "colab_type": "text",
    "id": "4G08f_aEKLjd",
    "pycharm": {
     "name": "#%% md\n"
    }
   },
   "source": [
    "[**EX15**][**REPORT**] Plot the histograms of the probabilities resulting of the prediction of the Random Forest model for class 0 and class 1."
   ]
  },
  {
   "cell_type": "code",
   "execution_count": 189,
   "metadata": {
    "pycharm": {
     "name": "#%%\n"
    }
   },
   "outputs": [
    {
     "data": {
      "image/png": "[encoded data removed]",
      "text/plain": [
       "<Figure size 432x288 with 1 Axes>"
      ]
     },
     "metadata": {
      "needs_background": "light"
     },
     "output_type": "display_data"
    }
   ],
   "source": [
    "Prob_RFcf = RFcf.predict_proba(X_test)\n",
    "\n",
    "plt.figure()\n",
    "plt.hist(Prob_RFcf)\n",
    "plt.title('Random Forest')\n",
    "plt.show()"
   ]
  },
  {
   "cell_type": "markdown",
   "metadata": {
    "colab_type": "text",
    "id": "K9Vbyi1lKLjg",
    "pycharm": {
     "name": "#%% md\n"
    }
   },
   "source": [
    "### Boosting ensemble: Gradient Tree Boosting"
   ]
  },
  {
   "cell_type": "markdown",
   "metadata": {
    "colab_type": "text",
    "id": "VTZvSgz8KLji",
    "pycharm": {
     "name": "#%% md\n"
    }
   },
   "source": [
    "[**EX16**][**CODE**][**REPORT**] Build a **Boosting** ensemble based on Gradient Tree Boosting (GBT). There are several boosting algorithms as Adaboost, etc.  Train the GBT with the balanced training dataset, i.e. `X_train` and `y_train`. Calculate the **precision**, **recall** and **confusion matrix** of the new classifier. Is it better than any of the previous baseline models? Justify your answer.\n",
    "\n",
    "Tip: You may use [GradientBoostingClassifier](https://scikit-learn.org/stable/modules/generated/sklearn.ensemble.GradientBoostingClassifier.html) to build this type of ensemble."
   ]
  },
  {
   "cell_type": "code",
   "execution_count": 190,
   "metadata": {
    "pycharm": {
     "name": "#%%\n"
    }
   },
   "outputs": [
    {
     "name": "stdout",
     "output_type": "stream",
     "text": [
      "Gradient Boosting Classifier:\n",
      "\n",
      "              precision    recall  f1-score   support\n",
      "\n",
      "           0       0.57      0.65      0.61       349\n",
      "           1       0.64      0.56      0.60       385\n",
      "\n",
      "    accuracy                           0.60       734\n",
      "   macro avg       0.61      0.61      0.60       734\n",
      "weighted avg       0.61      0.60      0.60       734\n",
      "\n",
      "[[226 123]\n",
      " [168 217]]\n"
     ]
    }
   ],
   "source": [
    "#Gradient Tree Boosting\n",
    "model_GBT = GradientBoostingClassifier()\n",
    "model_GBT = model_GBT.fit(X_train, y_train)\n",
    "y_pred_GBT = model_GBT.predict(X_test)\n",
    "\n",
    "print(\"Gradient Boosting Classifier:\\n\")\n",
    "print(classification_report(y_test, y_pred_GBT))\n",
    "print(confusion_matrix(y_test, y_pred_GBT))"
   ]
  },
  {
   "cell_type": "markdown",
   "metadata": {
    "colab_type": "text",
    "id": "KLwM8rn_KLjl",
    "pycharm": {
     "name": "#%% md\n"
    }
   },
   "source": [
    "[**EX17**][**REPORT**] Plot the histograms of the probabilities resulting of the prediction of the GBT model for class 0 and class 1. Compare it with histogram of Random Forest. Which one classifies better from your point of view? Why? "
   ]
  },
  {
   "cell_type": "code",
   "execution_count": 191,
   "metadata": {
    "pycharm": {
     "name": "#%%\n"
    }
   },
   "outputs": [
    {
     "data": {
      "image/png": "[encoded data removed]",
      "text/plain": [
       "<Figure size 432x288 with 1 Axes>"
      ]
     },
     "metadata": {
      "needs_background": "light"
     },
     "output_type": "display_data"
    }
   ],
   "source": [
    "Prob_GBT = model_GBT.predict_proba(X_test)\n",
    "\n",
    "plt.figure()\n",
    "plt.hist(Prob_GBT)\n",
    "plt.title('Gradient Tree Boosting')\n",
    "plt.show()"
   ]
  },
  {
   "cell_type": "markdown",
   "metadata": {
    "colab_type": "text",
    "id": "UvbS-zysKLjq",
    "pycharm": {
     "name": "#%% md\n"
    }
   },
   "source": [
    "# 3. Creating a Business opportunity with Machine Learning"
   ]
  },
  {
   "cell_type": "markdown",
   "metadata": {
    "colab_type": "text",
    "id": "oYWmrLYQKLjP",
    "pycharm": {
     "name": "#%% md\n"
    }
   },
   "source": [
    "The cut-off is the **threshold of the probability of the prediction** to assign to class 0 or class 1 the prediction. If probability > cut-off, the model classifies as 1; otherwise, model classifies as 0. \n",
    "The cut-off is a value that can be adjusted to increase the recall or the precision. Usually, there is a **trade-off** between improving the recall-precision."
   ]
  },
  {
   "cell_type": "markdown",
   "metadata": {
    "colab_type": "text",
    "id": "XBhZ9VKgKLjq",
    "pycharm": {
     "name": "#%% md\n"
    }
   },
   "source": [
    "[**EX18**][**CODE**][**REPORT**] Execute the prediction for the selected model. Adjust the cutoff value to optimize the classifier if you consider necessary. How many **non customers** are you going to send to the sales managers to sell our products to them?\n",
    "\n",
    "\n"
   ]
  },
  {
   "cell_type": "code",
   "execution_count": 192,
   "metadata": {
    "pycharm": {
     "name": "#%%\n"
    }
   },
   "outputs": [
    {
     "name": "stdout",
     "output_type": "stream",
     "text": [
      "0.0\n",
      "              precision    recall  f1-score   support\n",
      "\n",
      "           0       0.00      0.00      0.00       349\n",
      "           1       0.52      1.00      0.69       385\n",
      "\n",
      "    accuracy                           0.52       734\n",
      "   macro avg       0.26      0.50      0.34       734\n",
      "weighted avg       0.28      0.52      0.36       734\n",
      "\n",
      "0.1\n",
      "              precision    recall  f1-score   support\n",
      "\n",
      "           0       0.00      0.00      0.00       349\n",
      "           1       0.52      1.00      0.69       385\n",
      "\n",
      "    accuracy                           0.52       734\n",
      "   macro avg       0.26      0.50      0.34       734\n",
      "weighted avg       0.28      0.52      0.36       734\n",
      "\n",
      "0.2\n",
      "              precision    recall  f1-score   support\n",
      "\n",
      "           0       0.79      0.07      0.14       349\n",
      "           1       0.54      0.98      0.70       385\n",
      "\n",
      "    accuracy                           0.55       734\n",
      "   macro avg       0.66      0.53      0.42       734\n",
      "weighted avg       0.66      0.55      0.43       734\n",
      "\n",
      "0.30000000000000004\n",
      "              precision    recall  f1-score   support\n",
      "\n",
      "           0       0.72      0.23      0.35       349\n",
      "           1       0.57      0.92      0.70       385\n",
      "\n",
      "    accuracy                           0.59       734\n",
      "   macro avg       0.64      0.57      0.53       734\n",
      "weighted avg       0.64      0.59      0.53       734\n",
      "\n",
      "0.4\n",
      "              precision    recall  f1-score   support\n",
      "\n",
      "           0       0.64      0.41      0.50       349\n",
      "           1       0.60      0.79      0.68       385\n",
      "\n",
      "    accuracy                           0.61       734\n",
      "   macro avg       0.62      0.60      0.59       734\n",
      "weighted avg       0.62      0.61      0.60       734\n",
      "\n",
      "0.5\n",
      "              precision    recall  f1-score   support\n",
      "\n",
      "           0       0.57      0.65      0.61       349\n",
      "           1       0.64      0.56      0.60       385\n",
      "\n",
      "    accuracy                           0.60       734\n",
      "   macro avg       0.61      0.61      0.60       734\n",
      "weighted avg       0.61      0.60      0.60       734\n",
      "\n",
      "0.6000000000000001\n",
      "              precision    recall  f1-score   support\n",
      "\n",
      "           0       0.52      0.84      0.65       349\n",
      "           1       0.68      0.30      0.42       385\n",
      "\n",
      "    accuracy                           0.56       734\n",
      "   macro avg       0.60      0.57      0.53       734\n",
      "weighted avg       0.61      0.56      0.53       734\n",
      "\n",
      "0.7000000000000001\n",
      "              precision    recall  f1-score   support\n",
      "\n",
      "           0       0.49      0.93      0.64       349\n",
      "           1       0.65      0.13      0.21       385\n",
      "\n",
      "    accuracy                           0.51       734\n",
      "   macro avg       0.57      0.53      0.43       734\n",
      "weighted avg       0.58      0.51      0.42       734\n",
      "\n",
      "0.8\n",
      "              precision    recall  f1-score   support\n",
      "\n",
      "           0       0.48      0.98      0.65       349\n",
      "           1       0.71      0.04      0.08       385\n",
      "\n",
      "    accuracy                           0.49       734\n",
      "   macro avg       0.60      0.51      0.36       734\n",
      "weighted avg       0.60      0.49      0.35       734\n",
      "\n",
      "0.9\n",
      "              precision    recall  f1-score   support\n",
      "\n",
      "           0       0.48      1.00      0.64       349\n",
      "           1       0.67      0.01      0.01       385\n",
      "\n",
      "    accuracy                           0.48       734\n",
      "   macro avg       0.57      0.50      0.33       734\n",
      "weighted avg       0.58      0.48      0.31       734\n",
      "\n",
      "1.0\n",
      "              precision    recall  f1-score   support\n",
      "\n",
      "           0       0.48      1.00      0.64       349\n",
      "           1       0.00      0.00      0.00       385\n",
      "\n",
      "    accuracy                           0.48       734\n",
      "   macro avg       0.24      0.50      0.32       734\n",
      "weighted avg       0.23      0.48      0.31       734\n",
      "\n",
      "96      1\n",
      "2208    0\n",
      "1942    0\n",
      "1874    0\n",
      "1803    0\n",
      "       ..\n",
      "170     1\n",
      "1175    0\n",
      "999     1\n",
      "187     1\n",
      "619     1\n",
      "Name: Target, Length: 734, dtype: int64\n"
     ]
    },
    {
     "name": "stderr",
     "output_type": "stream",
     "text": [
      "C:\\Users\\Loly\\anaconda3\\lib\\site-packages\\sklearn\\metrics\\_classification.py:1221: UndefinedMetricWarning: Precision and F-score are ill-defined and being set to 0.0 in labels with no predicted samples. Use `zero_division` parameter to control this behavior.\n",
      "  _warn_prf(average, modifier, msg_start, len(result))\n"
     ]
    }
   ],
   "source": [
    "Prob_GBT = model_GBT.predict_proba(X_test)\n",
    "\n",
    "for i in range(11):\n",
    "    t = 0.1*i    \n",
    "    y_pred = (Prob_GBT[:,1] >t)*1\n",
    "    print(t)\n",
    "    print(classification_report(y_test, y_pred))\n",
    "print(y_test)"
   ]
  },
  {
   "cell_type": "markdown",
   "metadata": {
    "colab_type": "text",
    "id": "2OKOVuCNKLjt",
    "pycharm": {
     "name": "#%% md\n"
    }
   },
   "source": [
    "Usually, Marketing department needs to know and understand the main features of the algorithms. The code below returns the importance of each feature of the `training_dataset`."
   ]
  },
  {
   "cell_type": "code",
   "execution_count": 208,
   "metadata": {
    "colab": {},
    "colab_type": "code",
    "id": "nX4VfjM4KLjt",
    "pycharm": {
     "name": "#%%\n"
    }
   },
   "outputs": [],
   "source": [
    "features=['City_coded','Revenue', 'Sector', 'Legal_Form_Code', 'CNT_EMPLOYEE', 'CNT_CB_DENSITY',\n",
    "                            'CNT_CB_MOB_DENSITY', 'CNT_CB_FN_DENS', 'Mobile_potential']\n",
    "features_values=model_GBT.feature_importances_\n",
    "features_importance=[]\n",
    "for i in range (len(features)):\n",
    "    features_importance.append([features[i],features_values[i]])\n",
    "    \n",
    "df = pd.DataFrame(features_importance, columns = [\"Name\",\"Importance\"]);"
   ]
  },
  {
   "cell_type": "markdown",
   "metadata": {
    "colab_type": "text",
    "id": "3gE_DYCvKLjw",
    "pycharm": {
     "name": "#%% md\n"
    }
   },
   "source": [
    "[**EX19**][**CODE**][**REPORT**] Order the features by importance. Which are the top 3 features to discriminate between **non customers** and **customers**?"
   ]
  },
  {
   "cell_type": "code",
   "execution_count": 210,
   "metadata": {
    "pycharm": {
     "name": "#%%\n"
    }
   },
   "outputs": [
    {
     "name": "stdout",
     "output_type": "stream",
     "text": [
      "                 Name  Importance\n",
      "0          City_coded    0.122325\n",
      "1             Revenue    0.135264\n",
      "2              Sector    0.080473\n",
      "3     Legal_Form_Code    0.059669\n",
      "4        CNT_EMPLOYEE    0.078445\n",
      "5      CNT_CB_DENSITY    0.114590\n",
      "6  CNT_CB_MOB_DENSITY    0.115110\n",
      "7      CNT_CB_FN_DENS    0.052949\n",
      "8    Mobile_potential    0.241175\n"
     ]
    },
    {
     "data": {
      "text/html": [
       "<div>\n",
       "<style scoped>\n",
       "    .dataframe tbody tr th:only-of-type {\n",
       "        vertical-align: middle;\n",
       "    }\n",
       "\n",
       "    .dataframe tbody tr th {\n",
       "        vertical-align: top;\n",
       "    }\n",
       "\n",
       "    .dataframe thead th {\n",
       "        text-align: right;\n",
       "    }\n",
       "</style>\n",
       "<table border=\"1\" class=\"dataframe\">\n",
       "  <thead>\n",
       "    <tr style=\"text-align: right;\">\n",
       "      <th></th>\n",
       "      <th>Name</th>\n",
       "      <th>Importance</th>\n",
       "    </tr>\n",
       "  </thead>\n",
       "  <tbody>\n",
       "    <tr>\n",
       "      <th>8</th>\n",
       "      <td>Mobile_potential</td>\n",
       "      <td>0.241175</td>\n",
       "    </tr>\n",
       "    <tr>\n",
       "      <th>1</th>\n",
       "      <td>Revenue</td>\n",
       "      <td>0.135264</td>\n",
       "    </tr>\n",
       "    <tr>\n",
       "      <th>0</th>\n",
       "      <td>City_coded</td>\n",
       "      <td>0.122325</td>\n",
       "    </tr>\n",
       "    <tr>\n",
       "      <th>6</th>\n",
       "      <td>CNT_CB_MOB_DENSITY</td>\n",
       "      <td>0.115110</td>\n",
       "    </tr>\n",
       "    <tr>\n",
       "      <th>5</th>\n",
       "      <td>CNT_CB_DENSITY</td>\n",
       "      <td>0.114590</td>\n",
       "    </tr>\n",
       "    <tr>\n",
       "      <th>2</th>\n",
       "      <td>Sector</td>\n",
       "      <td>0.080473</td>\n",
       "    </tr>\n",
       "    <tr>\n",
       "      <th>4</th>\n",
       "      <td>CNT_EMPLOYEE</td>\n",
       "      <td>0.078445</td>\n",
       "    </tr>\n",
       "    <tr>\n",
       "      <th>3</th>\n",
       "      <td>Legal_Form_Code</td>\n",
       "      <td>0.059669</td>\n",
       "    </tr>\n",
       "    <tr>\n",
       "      <th>7</th>\n",
       "      <td>CNT_CB_FN_DENS</td>\n",
       "      <td>0.052949</td>\n",
       "    </tr>\n",
       "  </tbody>\n",
       "</table>\n",
       "</div>"
      ],
      "text/plain": [
       "                 Name  Importance\n",
       "8    Mobile_potential    0.241175\n",
       "1             Revenue    0.135264\n",
       "0          City_coded    0.122325\n",
       "6  CNT_CB_MOB_DENSITY    0.115110\n",
       "5      CNT_CB_DENSITY    0.114590\n",
       "2              Sector    0.080473\n",
       "4        CNT_EMPLOYEE    0.078445\n",
       "3     Legal_Form_Code    0.059669\n",
       "7      CNT_CB_FN_DENS    0.052949"
      ]
     },
     "execution_count": 210,
     "metadata": {},
     "output_type": "execute_result"
    }
   ],
   "source": [
    "#Anrtes del order\n",
    "print(df)\n",
    "#ordena\n",
    "df.sort_values(by=['Importance'],ascending=[False])"
   ]
  },
  {
   "cell_type": "markdown",
   "metadata": {
    "colab_type": "text",
    "id": "-htmJrDzKLjy",
    "pycharm": {
     "name": "#%% md\n"
    }
   },
   "source": [
    " [**EX20**][**REPORT**] In this project, we have used classification techniques to identify potential customers. We have adjusted the main classification parameters as cutoff, recall and precision according to the final purpose: in out case, identify **non customers** that could be interested to buy our products. Consider a new campaign focused on accelerating the sales of an **existing mobile tariff** to our customers. Answer the following questions:\n",
    "- In this case, which is the **target** variable? Which are **target=0** samples? And **target=1**?\n",
    "- As the marketing campaing is oriented to our customers we will have further information about them in our internal systems. In particular, we could add to the information of the previous section 3 new variables: data and voice consumption and mobile expense. Adding more data to the dataset may imply more computational data and cost. Would you add these 3 new variables to dataset? Justify your answer.\n",
    "- Today the mobile tariff is not very popular among our customers. Will the training dataset be balanced or unbalanced? Justify your answer.\n",
    "\n",
    "Imagine the following scatter plot (`monthly data traffic` vs `monthly voice traffic`):\n",
    "\n",
    "![<scatter_plot>](scatter_plot.png)\n",
    "- Describe in terms of `monthly data traffic` and `monthly voice traffic` the **pattern** of target 1 customers\n",
    "- Draw a plane to separate both classes\n",
    "- According to the previous plane, which are the customers to be phoned to sell the mobile tariff?\n",
    "- Could you estimate the **precision** and **recall** of the classification?"
   ]
  },
  {
   "cell_type": "markdown",
   "metadata": {
    "colab_type": "text",
    "id": "WqGzZF61KLjy",
    "pycharm": {
     "name": "#%% md\n"
    }
   },
   "source": [
    "*******"
   ]
  },
  {
   "cell_type": "markdown",
   "metadata": {
    "colab_type": "text",
    "id": "d90P5bXGKLjz",
    "pycharm": {
     "name": "#%% md\n"
    }
   },
   "source": [
    "# Deliver"
   ]
  },
  {
   "cell_type": "markdown",
   "metadata": {
    "colab_type": "text",
    "id": "vsdxRz2aKLj0",
    "pycharm": {
     "name": "#%% md\n"
    }
   },
   "source": [
    "Deliver:\n",
    "\n",
    "* A zip file containing your notebook (.ipynb file) with all the [**CODE**] parts implemented.\n",
    "* A 5-pages PDF report including all parts of this notebook marked with \"[**REPORT**]\"\n",
    "\n",
    "The report should end with the following statement: **We hereby declare that, except for the code provided by the course instructors, all of our code, report, and figures were produced by ourselves.**"
   ]
  },
  {
   "cell_type": "code",
   "execution_count": null,
   "metadata": {
    "colab": {},
    "colab_type": "code",
    "id": "Rwqgx07mKLj0",
    "pycharm": {
     "name": "#%%\n"
    }
   },
   "outputs": [],
   "source": []
  }
 ],
 "metadata": {
  "colab": {
   "name": "P02_Classification.ipynb",
   "provenance": []
  },
  "kernelspec": {
   "display_name": "Python 3",
   "language": "python",
   "name": "python3"
  },
  "language_info": {
   "codemirror_mode": {
    "name": "ipython",
    "version": 3
   },
   "file_extension": ".py",
   "mimetype": "text/x-python",
   "name": "python",
   "nbconvert_exporter": "python",
   "pygments_lexer": "ipython3",
   "version": "3.8.5"
  }
 },
 "nbformat": 4,
 "nbformat_minor": 4
}